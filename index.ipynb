{
 "cells": [
  {
   "cell_type": "code",
   "execution_count": 1,
   "id": "7b183ecc-535f-4848-b120-37e0b862eb39",
   "metadata": {},
   "outputs": [],
   "source": [
    "# Data\n",
    "\n",
    "company_detail_list = [\n",
    "      {\n",
    "          'name': 'Company 1',\n",
    "          'domain': 'Retail',\n",
    "          'country': 'United States'\n",
    "      },\n",
    "      {\n",
    "          'name': 'Company 2',\n",
    "          'domain': 'Technology',\n",
    "          'country': 'United Kingdom'\n",
    "      },\n",
    "      {\n",
    "          'name': 'Company 3',\n",
    "          'domain': 'Healthcare',\n",
    "          'country': 'United States'\n",
    "      }\n",
    "  ]\n",
    "\n",
    "employee_detail_list = [\n",
    "     {\n",
    "          'name': 'EMP-0001',\n",
    "          'first_name': 'John',\n",
    "          'last_name': 'Doe',\n",
    "          'full_name': 'John Doe',\n",
    "          'company': 'Company 1',\n",
    "          'nationality': 'Australia'\n",
    "      },\n",
    "      {\n",
    "          'name': 'EMP-0002',\n",
    "          'first_name': 'Tom',\n",
    "          'last_name': 'Smith',\n",
    "          'full_name': 'Tom Smith',\n",
    "          'company': 'Company 2',\n",
    "          'nationality': 'United States'\n",
    "      },\n",
    "      {\n",
    "          'name': 'EMP-0003',\n",
    "          'first_name': 'Andrew',\n",
    "          'last_name': 'Sebastian',\n",
    "          'full_name': 'Andrew Sebastian',\n",
    "          'company': 'Company 3',\n",
    "          'nationality': 'United States'\n",
    "      },\n",
    "      {\n",
    "          'name': 'EMP-0005',\n",
    "          'first_name': 'Ying Han',\n",
    "          'last_name': 'Tan',\n",
    "          'full_name': 'Ying Han Tan',\n",
    "          'company': 'Company 1',\n",
    "          'nationality': 'Australia'\n",
    "      },\n",
    "      {\n",
    "          'name': 'EMP-0015',\n",
    "          'first_name': 'Kenneth',\n",
    "          'last_name': 'Ng',\n",
    "          'full_name': 'Kenneth Ng',\n",
    "          'company': 'Company 3',\n",
    "          'nationality': 'United States'\n",
    "      },\n",
    "      {\n",
    "          'name': 'EMP-0018',\n",
    "          'first_name': 'Rubby',\n",
    "          'last_name': 'Lee',\n",
    "          'full_name': 'Rubby Lee',\n",
    "          'company': 'Company 2',\n",
    "          'nationality': 'Hong Kong'\n",
    "      },\n",
    "     {\n",
    "          'name': 'EMP-0017',\n",
    "          'first_name': 'Robert',\n",
    "          'last_name': 'White',\n",
    "          'full_name': 'Robert White',\n",
    "          'company': 'Company 1',\n",
    "          'nationality': 'United Kingdom'\n",
    "      }\n",
    "  ]"
   ]
  },
  {
   "cell_type": "code",
   "execution_count": 2,
   "id": "b4c81167-ad40-4d0c-bc4d-be6c48743bba",
   "metadata": {},
   "outputs": [
    {
     "data": {
      "text/plain": [
       "[{'name': 'Company 3'}, {'name': 'Company 2'}, {'name': 'Company 1'}]"
      ]
     },
     "execution_count": 2,
     "metadata": {},
     "output_type": "execute_result"
    }
   ],
   "source": [
    "[{\n",
    "    \"name\": \"Company 3\"\n",
    "}, {\n",
    "    \"name\": \"Company 2\"\n",
    "}, {\n",
    "    \"name\": \"Company 1\"\n",
    "}]"
   ]
  },
  {
   "cell_type": "code",
   "execution_count": 3,
   "id": "a32fb379-b46c-4fe2-b579-0f58f7b891de",
   "metadata": {},
   "outputs": [
    {
     "data": {
      "text/plain": [
       "{'EMP-0001': 'Company 1',\n",
       " 'EMP-0002': 'Company 2',\n",
       " 'EMP-0003': 'Company 3',\n",
       " 'EMP-0005': 'Company 1',\n",
       " 'EMP-0015': 'Company 3',\n",
       " 'EMP-0018': 'Company 2',\n",
       " 'EMP-0017': 'Company 1'}"
      ]
     },
     "execution_count": 3,
     "metadata": {},
     "output_type": "execute_result"
    }
   ],
   "source": [
    "# mapping data {name: company}\n",
    "data_name = {data[\"name\"]: data[\"company\"] for data in employee_detail_list}\n",
    "data_name"
   ]
  },
  {
   "cell_type": "code",
   "execution_count": 8,
   "id": "cecf9254-5426-44f3-8f6b-481fc4ebf654",
   "metadata": {},
   "outputs": [
    {
     "name": "stdout",
     "output_type": "stream",
     "text": [
      "Company 1: Retail (United States)\n",
      "Company 2: Technology (United Kingdom)\n",
      "Company 3: Healthcare (United States)\n"
     ]
    }
   ],
   "source": [
    "# mapping data {name: domain}\n",
    "for company in company_detail_list:\n",
    "    print(f\"{company['name']}: {company['domain']} ({company['country']})\")"
   ]
  },
  {
   "cell_type": "code",
   "execution_count": 9,
   "id": "185f63f6-3c44-4d0c-9fcb-6800dafb1ef8",
   "metadata": {},
   "outputs": [
    {
     "name": "stdout",
     "output_type": "stream",
     "text": [
      "{'Retail': ['John Doe', 'Ying Han Tan', 'Robert White'], 'Technology': ['Tom Smith', 'Rubby Lee'], 'Healthcare': ['Andrew Sebastian', 'Kenneth Ng']}\n"
     ]
    }
   ],
   "source": [
    "# Mapping perusahaan : domain\n",
    "company_domain_map = {company['name']: company['domain'] for company in company_detail_list}\n",
    "\n",
    "# mapping : karyawan\n",
    "domain_employee_map = {}\n",
    "for employee in employee_detail_list:\n",
    "    company_name = employee['company']\n",
    "    domain = company_domain_map[company_name]\n",
    "    # buat daftar baru, if domain no available\n",
    "    if domain not in domain_employee_map:\n",
    "        domain_employee_map[domain] = []\n",
    "    # Name karyawan ke dalam daftar domain\n",
    "    domain_employee_map[domain].append(employee['full_name'])\n",
    "print(domain_employee_map)"
   ]
  },
  {
   "cell_type": "code",
   "execution_count": 14,
   "id": "dc03b354-339a-48dd-95b4-d64adcbbe575",
   "metadata": {},
   "outputs": [
    {
     "name": "stdout",
     "output_type": "stream",
     "text": [
      "[{'full_name': 'John Doe', 'company': 'Company 1', 'country': 'United States'}, {'full_name': 'Tom Smith', 'company': 'Company 2', 'country': 'United Kingdom'}, {'full_name': 'Andrew Sebastian', 'company': 'Company 3', 'country': 'United States'}, {'full_name': 'Ying Han Tan', 'company': 'Company 1', 'country': 'United States'}, {'full_name': 'Kenneth Ng', 'company': 'Company 3', 'country': 'United States'}, {'full_name': 'Rubby Lee', 'company': 'Company 2', 'country': 'United Kingdom'}, {'full_name': 'Robert White', 'company': 'Company 1', 'country': 'United States'}]\n"
     ]
    }
   ],
   "source": [
    "# Mappping perusahaan : as country\n",
    "company_country_map = {company['name']: company['country'] for company in company_detail_list}\n",
    "\n",
    "def get_employee_with_company_country():\n",
    "    result = []\n",
    "    for employee in employee_detail_list:\n",
    "        company_name = employee['company']\n",
    "        country = company_country_map[company_name]\n",
    "        result.append({\n",
    "            \"full_name\": employee['full_name'],\n",
    "            \"company\": company_name,\n",
    "            \"country\": country\n",
    "        })\n",
    "    return result\n",
    "\n",
    "employee_data = get_employee_with_company_country()\n",
    "print(employee_data)\n"
   ]
  },
  {
   "cell_type": "code",
   "execution_count": 16,
   "id": "e7aaba8d-8cdc-4d89-b6be-7fb868a5b564",
   "metadata": {},
   "outputs": [
    {
     "name": "stdout",
     "output_type": "stream",
     "text": [
      "[{'company': 'Company 1', 'employee_nationality': {'Australia': 2, 'United Kingdom': 1}}, {'company': 'Company 2', 'employee_nationality': {'United States': 1, 'Hong Kong': 1}}, {'company': 'Company 3', 'employee_nationality': {'United States': 2}}]\n"
     ]
    }
   ],
   "source": [
    "from collections import defaultdict\n",
    "# Menghitung jumlah karyawan based nationality as country\n",
    "def get_employee_nationality_by_company(company_details, employee_details):\n",
    "    # create dictionary\n",
    "    company_nationality_data = defaultdict(lambda: defaultdict(int))\n",
    "\n",
    "    # Loop untuk menghitung jumlah nationality\n",
    "    for employee in employee_details:\n",
    "        company = employee['company']\n",
    "        nationality = employee['nationality']\n",
    "        company_nationality_data[company][nationality] += 1\n",
    "\n",
    "    # Mengonversi format\n",
    "    result = []\n",
    "    for company in company_details:\n",
    "        company_name = company['name']\n",
    "        if company_name in company_nationality_data:\n",
    "            result.append({\n",
    "                'company': company_name,\n",
    "                'employee_nationality': dict(company_nationality_data[company_name])\n",
    "            })\n",
    "    \n",
    "    return result\n",
    "\n",
    "output = get_employee_nationality_by_company(company_detail_list, employee_detail_list)\n",
    "print(output)"
   ]
  },
  {
   "cell_type": "code",
   "execution_count": null,
   "id": "4934b324-4c54-4714-ba44-da3bf49681cb",
   "metadata": {},
   "outputs": [],
   "source": []
  }
 ],
 "metadata": {
  "kernelspec": {
   "display_name": "Python 3 (ipykernel)",
   "language": "python",
   "name": "python3"
  },
  "language_info": {
   "codemirror_mode": {
    "name": "ipython",
    "version": 3
   },
   "file_extension": ".py",
   "mimetype": "text/x-python",
   "name": "python",
   "nbconvert_exporter": "python",
   "pygments_lexer": "ipython3",
   "version": "3.12.6"
  }
 },
 "nbformat": 4,
 "nbformat_minor": 5
}
